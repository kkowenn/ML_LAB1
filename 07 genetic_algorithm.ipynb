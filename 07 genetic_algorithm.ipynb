{
  "nbformat": 4,
  "nbformat_minor": 0,
  "metadata": {
    "colab": {
      "provenance": []
    },
    "kernelspec": {
      "name": "python3",
      "display_name": "Python 3"
    },
    "language_info": {
      "name": "python"
    }
  },
  "cells": [
    {
      "cell_type": "code",
      "source": [
        "import pandas as pd\n",
        "import numpy as np\n",
        "\n",
        "# Load BMI data\n",
        "BMI = pd.read_csv('bmi.csv')\n",
        "\n",
        "# Preprocess data (assuming binary classification: Normal or not)\n",
        "BMI['Target'] = BMI['Index'].apply(lambda x: 1 if x == 3 else 0)\n",
        "\n",
        "# Define Genetic Algorithm parameters\n",
        "population_size = 50\n",
        "num_generations = 50\n",
        "mutation_rate = 0.1\n",
        "\n",
        "# Initialize population randomly\n",
        "population = np.random.randint(2, size=(population_size, len(BMI.columns) - 1))\n",
        "\n",
        "# Define fitness function\n",
        "def fitness(individual):\n",
        "    # Assume a simple fitness function based on correct predictions\n",
        "    predictions = np.sum(individual == BMI['Target'].values[:, np.newaxis], axis=1)\n",
        "    return np.sum(predictions == 1)\n",
        "\n",
        "# Genetic Algorithm\n",
        "for generation in range(num_generations):\n",
        "    # Evaluate fitness of each individual\n",
        "    fitness_values = np.apply_along_axis(fitness, 1, population)\n",
        "\n",
        "    # Select parents based on fitness\n",
        "    parents_indices = np.argsort(fitness_values)[-10:]  # Select top 10 individuals as parents\n",
        "    parents = population[parents_indices]\n",
        "\n",
        "    # Crossover\n",
        "    crossover_point = len(BMI.columns) // 2\n",
        "    children = []\n",
        "    for _ in range(population_size - len(parents)):\n",
        "        parent1, parent2 = np.random.choice(parents_indices, 2, replace=False)\n",
        "        child = np.concatenate((population[parent1][:crossover_point], population[parent2][crossover_point:]))\n",
        "        children.append(child)\n",
        "\n",
        "    # Mutation\n",
        "    mutation_mask = np.random.rand(population_size, len(BMI.columns) - 1) < mutation_rate\n",
        "    population = np.logical_xor(population, mutation_mask).astype(int)\n",
        "\n",
        "    # Replace old population with new population\n",
        "    population[:len(parents)] = parents\n",
        "    population[len(parents):] = children\n",
        "\n",
        "# Select the best individual from the final generation\n",
        "best_individual = population[np.argmax(np.apply_along_axis(fitness, 1, population))]\n",
        "\n",
        "# Use the best individual for prediction\n",
        "new_data = np.array([[170, 80, 1]])  # Example new data\n",
        "prediction = np.sum(best_individual[:-1] == (new_data > 0))\n",
        "predicted_bmi = \"Normal\" if prediction else \"Not Normal\"\n",
        "\n",
        "print(\"Predicted BMI:\", predicted_bmi)"
      ],
      "metadata": {
        "colab": {
          "base_uri": "https://localhost:8080/"
        },
        "id": "aov9oJQxfxEl",
        "outputId": "3048bd24-aafb-4749-8d2d-a7c664bcdebb"
      },
      "execution_count": 8,
      "outputs": [
        {
          "output_type": "stream",
          "name": "stdout",
          "text": [
            "Predicted BMI: Normal\n"
          ]
        }
      ]
    },
    {
      "cell_type": "code",
      "source": [],
      "metadata": {
        "id": "1Rc25Chof83k"
      },
      "execution_count": null,
      "outputs": []
    }
  ]
}