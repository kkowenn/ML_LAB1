{
  "cells": [
    {
      "cell_type": "code",
      "execution_count": 1,
      "metadata": {
        "colab": {
          "base_uri": "https://localhost:8080/"
        },
        "id": "HAPccpkzaBvD",
        "outputId": "db0fb9e6-dd85-44cb-9db5-930dcb3cfb94"
      },
      "outputs": [
        {
          "ename": "ModuleNotFoundError",
          "evalue": "No module named 'numpy'",
          "output_type": "error",
          "traceback": [
            "\u001b[0;31m---------------------------------------------------------------------------\u001b[0m",
            "\u001b[0;31mModuleNotFoundError\u001b[0m                       Traceback (most recent call last)",
            "\u001b[1;32m/Users/kritsadakruapat/Desktop/career/Collage/CSX4203 Machine learning  /lab/MUltiple_Linear_Regression_fromCsvfile.ipynb Cell 1\u001b[0m line \u001b[0;36m<cell line: 1>\u001b[0;34m()\u001b[0m\n\u001b[0;32m----> <a href='vscode-notebook-cell:/Users/kritsadakruapat/Desktop/career/Collage/CSX4203%20Machine%20learning%20%20/lab/MUltiple_Linear_Regression_fromCsvfile.ipynb#W0sZmlsZQ%3D%3D?line=0'>1</a>\u001b[0m \u001b[39mimport\u001b[39;00m \u001b[39mnumpy\u001b[39;00m \u001b[39mas\u001b[39;00m \u001b[39mnp\u001b[39;00m\n\u001b[1;32m      <a href='vscode-notebook-cell:/Users/kritsadakruapat/Desktop/career/Collage/CSX4203%20Machine%20learning%20%20/lab/MUltiple_Linear_Regression_fromCsvfile.ipynb#W0sZmlsZQ%3D%3D?line=1'>2</a>\u001b[0m \u001b[39mimport\u001b[39;00m \u001b[39mnumpy\u001b[39;00m \u001b[39mas\u001b[39;00m \u001b[39mnp\u001b[39;00m\n\u001b[1;32m      <a href='vscode-notebook-cell:/Users/kritsadakruapat/Desktop/career/Collage/CSX4203%20Machine%20learning%20%20/lab/MUltiple_Linear_Regression_fromCsvfile.ipynb#W0sZmlsZQ%3D%3D?line=2'>3</a>\u001b[0m \u001b[39mimport\u001b[39;00m \u001b[39mcsv\u001b[39;00m\n",
            "\u001b[0;31mModuleNotFoundError\u001b[0m: No module named 'numpy'"
          ]
        }
      ],
      "source": [
        "import numpy as np\n",
        "import numpy as np\n",
        "import csv\n",
        "\n",
        "'''\n",
        "# Dataset:\n",
        "x1 = np.array([60, 62, 67, 70, 71, 72, 75,78])\n",
        "x2 = np.array([22, 25, 24, 20, 15, 14, 14,11])\n",
        "y = np.array([140, 155, 159, 179, 192, 200, 212, 215])\n",
        "n = len(y)\n",
        "'''\n",
        "\n",
        "# Assuming the CSV file has columns: x1, x2, y\n",
        "# Replace 'data.csv' with the path to your CSV file\n",
        "csv_file_path = 'BMI.csv'\n",
        "\n",
        "# Lists to store the data from the CSV file\n",
        "x1_data = []\n",
        "x2_data = []\n",
        "y_data = []\n",
        "\n",
        "# Read data from the CSV file\n",
        "with open(csv_file_path, 'r') as file:\n",
        "    csv_reader = csv.DictReader(file)\n",
        "    for row in csv_reader:\n",
        "        x1_data.append(float(row['Height']))\n",
        "        x2_data.append(float(row['Weight']))\n",
        "        y_data.append(float(row['Index']))\n",
        "\n",
        "# Convert lists to NumPy arrays\n",
        "x1 = np.array(x1_data)\n",
        "x2 = np.array(x2_data)\n",
        "y = np.array(y_data)\n",
        "\n",
        "# Length of the arrays\n",
        "n = len(y)\n",
        "\n",
        "# Display the arrays\n",
        "print(\"x1 =\", x1)\n",
        "print(\"x2 =\", x2)\n",
        "print(\"y =\", y)\n",
        "print(\"n =\", n)\n",
        "\n",
        "# Step1: Calculate (ΣX1^2,ΣX2^2,ΣX1*Y,ΣX2*Y,ΣX1*X2)\n",
        "# ΣX1^2\n",
        "sum_x1_squared = np.sum(x1 ** 2)\n",
        "# ΣX2^2\n",
        "sum_x2_squared = np.sum(x2 ** 2)\n",
        "# ΣX1*Y\n",
        "sum_x1_times_y = np.sum(x1 * y)\n",
        "# ΣX2*Y\n",
        "sum_x2_times_y = np.sum(x2 * y)\n",
        "# ΣX1*X2\n",
        "sum_x1_times_x2 = np.sum(x1 * x2)\n",
        "\n",
        "# Calculate mean\n",
        "mean_x1 = np.mean(x1)\n",
        "mean_x2 = np.mean(x2)\n",
        "mean_y = np.mean(y)\n",
        "\n",
        "\n",
        "# Step2: Calculate Regression Sums reg(ΣX1^2,ΣX2^2,ΣX1*Y,ΣX2*Y,ΣX1*X2)\n",
        "# ΣX1^2 - ((ΣX1^2)/n)\n",
        "reg_sum_x1_squared = sum_x1_squared - (sum_x1_squared/n)\n",
        "# ΣX1^2 - ((ΣX2^2)/n)\n",
        "reg_sum_x2_squared = sum_x2_squared - (sum_x2_squared/n)\n",
        "# ΣX1*Y - ((ΣX1*Y)/n)\n",
        "reg_sum_x1_times_y = sum_x1_times_y - (sum_x1_times_y/n)\n",
        "# ΣX2*Y - ((ΣX2*Y)/n)\n",
        "reg_sum_x2_times_y = sum_x2_times_y -(sum_x2_times_y/n)\n",
        "# ΣX1*X2 - ((ΣX1*X2)/n)\n",
        "reg_sum_x1_times_x2 = sum_x1_times_x2 -(sum_x1_times_x2/n)\n",
        "\n",
        "# Step3: Calculate (b0, b1, b2)\n",
        "#b1 = [(ΣX2^2)(ΣX1*Y) - (ΣX1*X2) (ΣX2*Y)] / [(ΣX1^2) (ΣX^2) - (ΣX1*ΣX2)^2]\n",
        "b1 = ((reg_sum_x2_squared * reg_sum_x1_times_y) - (reg_sum_x1_times_x2 * reg_sum_x2_times_y)) / (\n",
        "        (reg_sum_x1_squared * reg_sum_x2_squared) - (reg_sum_x1_times_x2 ** 2))\n",
        "\n",
        "#b2 = [(ΣX1^2)(ΣX2*Y) - (ΣX1*X2) (ΣX1*Y)] / [(ΣX1^ 2) (ΣX^2) - (ΣX1*X2)^2]\n",
        "b2 = ((reg_sum_x1_squared * reg_sum_x2_times_y) - (reg_sum_x1_times_x2 * reg_sum_x1_times_y)) / (\n",
        "        (reg_sum_x1_squared * reg_sum_x2_squared) - (reg_sum_x1_times_x2 ** 2))\n",
        "\n",
        "#b0  =  Mean(Y) - b1*Mean(X1) -b2*Mean (X2)\n",
        "b0 = mean_y - b1 * mean_x1 - b2 * mean_x2\n",
        "print(\"b0:\", b0)\n",
        "print(\"b1:\", b1)\n",
        "print(\"b2:\", b2)\n",
        "\n",
        "# Step 5: Creating the estimated linear regression equation\n",
        "regression_eq = f\"ŷ = {b0:.4f} + {b1:.4f}*x1 + {b2:.4f}*x2\"\n",
        "print(\"Estimated linear regression equation:\", regression_eq)\n"
      ]
    },
    {
      "cell_type": "code",
      "execution_count": null,
      "metadata": {
        "id": "pc6Vxgghn1mc"
      },
      "outputs": [],
      "source": []
    }
  ],
  "metadata": {
    "colab": {
      "provenance": []
    },
    "kernelspec": {
      "display_name": "Python 3",
      "name": "python3"
    },
    "language_info": {
      "codemirror_mode": {
        "name": "ipython",
        "version": 3
      },
      "file_extension": ".py",
      "mimetype": "text/x-python",
      "name": "python",
      "nbconvert_exporter": "python",
      "pygments_lexer": "ipython3",
      "version": "3.10.1"
    }
  },
  "nbformat": 4,
  "nbformat_minor": 0
}
